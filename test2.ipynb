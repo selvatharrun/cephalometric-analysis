{
 "cells": [
  {
   "cell_type": "code",
   "execution_count": 3,
   "metadata": {},
   "outputs": [
    {
     "name": "stdout",
     "output_type": "stream",
     "text": [
      "Defaulting to user installation because normal site-packages is not writeable\n",
      "Collecting bing_image_downloader\n",
      "  Downloading bing_image_downloader-1.1.2-py3-none-any.whl (5.9 kB)\n",
      "Installing collected packages: bing_image_downloader\n",
      "Successfully installed bing_image_downloader-1.1.2\n",
      "Note: you may need to restart the kernel to use updated packages.\n"
     ]
    }
   ],
   "source": [
    "pip install bing_image_downloader --break-system-packages"
   ]
  },
  {
   "cell_type": "code",
   "execution_count": null,
   "metadata": {},
   "outputs": [],
   "source": [
    "pip install tensorflow --break-system-packages"
   ]
  },
  {
   "cell_type": "code",
   "execution_count": 2,
   "metadata": {},
   "outputs": [
    {
     "name": "stdout",
     "output_type": "stream",
     "text": [
      "[%] Downloading Images to /home/selvatharrun/Documents/GitHub/cephalometric-analysis/images/face side profile\n",
      "\n",
      "\n",
      "[!!]Indexing page: 1\n",
      "\n",
      "[%] Indexed 10 Images on Page 1.\n",
      "\n",
      "===============================================\n",
      "\n",
      "[%] Downloading Image #1 from https://i.pinimg.com/originals/d5/49/13/d5491340d2082fac21bafa6fd22b91e5.jpg\n",
      "[%] File Downloaded !\n",
      "\n",
      "[%] Downloading Image #2 from http://www.newyorker.com/wp-content/uploads/2010/09/100920_r20016_hr-1200.jpg\n",
      "[%] File Downloaded !\n",
      "\n",
      "[%] Downloading Image #3 from https://i.pinimg.com/originals/8f/24/1a/8f241ab35ef613a4a83d8647cd220893.jpg\n",
      "[%] File Downloaded !\n",
      "\n",
      "[%] Downloading Image #4 from https://s-media-cache-ak0.pinimg.com/736x/af/14/50/af1450572cbe42d8dd5f949a8770aa34.jpg\n",
      "[%] File Downloaded !\n",
      "\n",
      "[%] Downloading Image #5 from https://i.pinimg.com/originals/da/76/72/da7672fbfb84b016d3d13a30df65ba78.jpg\n",
      "[%] File Downloaded !\n",
      "\n",
      "[%] Downloading Image #6 from https://i.pinimg.com/originals/69/b6/21/69b6215a7777a94c9fb195f1f156278f.jpg\n",
      "[%] File Downloaded !\n",
      "\n",
      "[%] Downloading Image #7 from https://i.pinimg.com/736x/09/54/fc/0954fc7f0684ecf5ced32ecee294e859.jpg\n",
      "[%] File Downloaded !\n",
      "\n",
      "[%] Downloading Image #8 from https://i.pinimg.com/originals/37/36/b7/3736b74b27a7ec724a9e8abd14077292.jpg\n",
      "[%] File Downloaded !\n",
      "\n",
      "[%] Downloading Image #9 from https://i.pinimg.com/originals/09/79/62/09796236d2e11ef47b1ee5596c7c6cca.jpg\n",
      "[%] File Downloaded !\n",
      "\n",
      "[%] Downloading Image #10 from https://i.pinimg.com/originals/4b/98/fa/4b98faecb5a82bd51ccc45db1af5cd7e.jpg\n",
      "[%] File Downloaded !\n",
      "\n",
      "\n",
      "\n",
      "[%] Done. Downloaded 10 images.\n"
     ]
    }
   ],
   "source": [
    "from bing_image_downloader import downloader\n",
    "\n",
    "# Define your search query\n",
    "search_query = \"face side profile\"\n",
    "\n",
    "# Specify the number of images you want to download\n",
    "num_images = 10\n",
    "\n",
    "# Download the images\n",
    "downloader.download(search_query, limit=num_images,  output_dir='images', adult_filter_off=True, force_replace=False)\n"
   ]
  },
  {
   "cell_type": "code",
   "execution_count": 3,
   "metadata": {},
   "outputs": [
    {
     "name": "stderr",
     "output_type": "stream",
     "text": [
      "2024-02-23 15:45:53.345184: I tensorflow/core/util/port.cc:113] oneDNN custom operations are on. You may see slightly different numerical results due to floating-point round-off errors from different computation orders. To turn them off, set the environment variable `TF_ENABLE_ONEDNN_OPTS=0`.\n",
      "2024-02-23 15:45:53.369299: I external/local_tsl/tsl/cuda/cudart_stub.cc:31] Could not find cuda drivers on your machine, GPU will not be used.\n",
      "2024-02-23 15:45:53.500471: E external/local_xla/xla/stream_executor/cuda/cuda_dnn.cc:9261] Unable to register cuDNN factory: Attempting to register factory for plugin cuDNN when one has already been registered\n",
      "2024-02-23 15:45:53.500534: E external/local_xla/xla/stream_executor/cuda/cuda_fft.cc:607] Unable to register cuFFT factory: Attempting to register factory for plugin cuFFT when one has already been registered\n",
      "2024-02-23 15:45:53.523054: E external/local_xla/xla/stream_executor/cuda/cuda_blas.cc:1515] Unable to register cuBLAS factory: Attempting to register factory for plugin cuBLAS when one has already been registered\n",
      "2024-02-23 15:45:53.570024: I external/local_tsl/tsl/cuda/cudart_stub.cc:31] Could not find cuda drivers on your machine, GPU will not be used.\n",
      "2024-02-23 15:45:53.570975: I tensorflow/core/platform/cpu_feature_guard.cc:182] This TensorFlow binary is optimized to use available CPU instructions in performance-critical operations.\n",
      "To enable the following instructions: AVX2 AVX512F AVX512_VNNI FMA, in other operations, rebuild TensorFlow with the appropriate compiler flags.\n",
      "2024-02-23 15:45:54.661988: W tensorflow/compiler/tf2tensorrt/utils/py_utils.cc:38] TF-TRT Warning: Could not find TensorRT\n",
      "2024-02-23 15:45:56.788702: I external/local_xla/xla/stream_executor/cuda/cuda_executor.cc:901] successful NUMA node read from SysFS had negative value (-1), but there must be at least one NUMA node, so returning NUMA node zero. See more at https://github.com/torvalds/linux/blob/v6.0/Documentation/ABI/testing/sysfs-bus-pci#L344-L355\n",
      "2024-02-23 15:45:56.832254: W tensorflow/core/common_runtime/gpu/gpu_device.cc:2256] Cannot dlopen some GPU libraries. Please make sure the missing libraries mentioned above are installed properly if you would like to use GPU. Follow the guide at https://www.tensorflow.org/install/gpu for how to download and setup the required libraries for your platform.\n",
      "Skipping registering GPU devices...\n"
     ]
    },
    {
     "ename": "ValueError",
     "evalue": "This model has not yet been built. Build the model first by calling `build()` or by calling the model on a batch of data.",
     "output_type": "error",
     "traceback": [
      "\u001b[0;31m---------------------------------------------------------------------------\u001b[0m",
      "\u001b[0;31mValueError\u001b[0m                                Traceback (most recent call last)",
      "Cell \u001b[0;32mIn[3], line 47\u001b[0m\n\u001b[1;32m     44\u001b[0m model\u001b[38;5;241m.\u001b[39mcompile(optimizer\u001b[38;5;241m=\u001b[39m\u001b[38;5;124m'\u001b[39m\u001b[38;5;124madam\u001b[39m\u001b[38;5;124m'\u001b[39m, loss\u001b[38;5;241m=\u001b[39m\u001b[38;5;124m'\u001b[39m\u001b[38;5;124mmse\u001b[39m\u001b[38;5;124m'\u001b[39m, metrics\u001b[38;5;241m=\u001b[39m[\u001b[38;5;124m'\u001b[39m\u001b[38;5;124mmae\u001b[39m\u001b[38;5;124m'\u001b[39m])  \u001b[38;5;66;03m# Using mean squared error loss\u001b[39;00m\n\u001b[1;32m     46\u001b[0m \u001b[38;5;66;03m# Display model summary\u001b[39;00m\n\u001b[0;32m---> 47\u001b[0m \u001b[43mmodel\u001b[49m\u001b[38;5;241;43m.\u001b[39;49m\u001b[43msummary\u001b[49m\u001b[43m(\u001b[49m\u001b[43m)\u001b[49m\n",
      "File \u001b[0;32m~/.local/lib/python3.11/site-packages/keras/src/engine/training.py:3506\u001b[0m, in \u001b[0;36mModel.summary\u001b[0;34m(self, line_length, positions, print_fn, expand_nested, show_trainable, layer_range)\u001b[0m\n\u001b[1;32m   3475\u001b[0m \u001b[38;5;250m\u001b[39m\u001b[38;5;124;03m\"\"\"Prints a string summary of the network.\u001b[39;00m\n\u001b[1;32m   3476\u001b[0m \n\u001b[1;32m   3477\u001b[0m \u001b[38;5;124;03mArgs:\u001b[39;00m\n\u001b[0;32m   (...)\u001b[0m\n\u001b[1;32m   3503\u001b[0m \u001b[38;5;124;03m    ValueError: if `summary()` is called before the model is built.\u001b[39;00m\n\u001b[1;32m   3504\u001b[0m \u001b[38;5;124;03m\"\"\"\u001b[39;00m\n\u001b[1;32m   3505\u001b[0m \u001b[38;5;28;01mif\u001b[39;00m \u001b[38;5;129;01mnot\u001b[39;00m \u001b[38;5;28mself\u001b[39m\u001b[38;5;241m.\u001b[39mbuilt:\n\u001b[0;32m-> 3506\u001b[0m     \u001b[38;5;28;01mraise\u001b[39;00m \u001b[38;5;167;01mValueError\u001b[39;00m(\n\u001b[1;32m   3507\u001b[0m         \u001b[38;5;124m\"\u001b[39m\u001b[38;5;124mThis model has not yet been built. \u001b[39m\u001b[38;5;124m\"\u001b[39m\n\u001b[1;32m   3508\u001b[0m         \u001b[38;5;124m\"\u001b[39m\u001b[38;5;124mBuild the model first by calling `build()` or by calling \u001b[39m\u001b[38;5;124m\"\u001b[39m\n\u001b[1;32m   3509\u001b[0m         \u001b[38;5;124m\"\u001b[39m\u001b[38;5;124mthe model on a batch of data.\u001b[39m\u001b[38;5;124m\"\u001b[39m\n\u001b[1;32m   3510\u001b[0m     )\n\u001b[1;32m   3511\u001b[0m layer_utils\u001b[38;5;241m.\u001b[39mprint_summary(\n\u001b[1;32m   3512\u001b[0m     \u001b[38;5;28mself\u001b[39m,\n\u001b[1;32m   3513\u001b[0m     line_length\u001b[38;5;241m=\u001b[39mline_length,\n\u001b[0;32m   (...)\u001b[0m\n\u001b[1;32m   3518\u001b[0m     layer_range\u001b[38;5;241m=\u001b[39mlayer_range,\n\u001b[1;32m   3519\u001b[0m )\n",
      "\u001b[0;31mValueError\u001b[0m: This model has not yet been built. Build the model first by calling `build()` or by calling the model on a batch of data."
     ]
    }
   ],
   "source": [
    "import tensorflow as tf\n",
    "from tensorflow.keras import layers, Model\n",
    "\n",
    "# Define your custom model architecture\n",
    "def build_model():\n",
    "    model = tf.keras.Sequential([\n",
    "        layers.Conv2D(32, (3, 3), activation='relu', input_shape=(height, width, channels)),\n",
    "        layers.MaxPooling2D((2, 2)),\n",
    "        layers.Conv2D(64, (3, 3), activation='relu'),\n",
    "        layers.MaxPooling2D((2, 2)),\n",
    "        layers.Conv2D(128, (3, 3), activation='relu'),\n",
    "        layers.MaxPooling2D((2, 2)),\n",
    "        layers.Flatten(),\n",
    "        layers.Dense(128, activation='relu'),\n",
    "        layers.Dropout(0.5),\n",
    "        layers.Dense(num_landmarks * 2)  # Assuming num_landmarks landmarks with (x, y) coordinates\n",
    "    ])\n",
    "    return model\n",
    "\n",
    "# Define loss function (e.g., mean squared error) and optimizer\n",
    "loss_fn = tf.keras.losses.MeanSquaredError()\n",
    "optimizer = tf.keras.optimizers.Adam()\n",
    "\n",
    "# Compile the model\n",
    "model = build_model()\n",
    "model.compile(optimizer=optimizer, loss=loss_fn, metrics=['accuracy'])\n",
    "\n",
    "# Train the model\n",
    "history = model.fit(train_images, train_landmarks, epochs=num_epochs, validation_data=(val_images, val_landmarks))\n",
    "\n",
    "# Evaluate the model\n",
    "loss, accuracy = model.evaluate(test_images, test_landmarks)\n",
    "print(f'Test Loss: {loss}, Test Accuracy: {accuracy}')\n",
    "\n",
    "# Optionally, save the trained model\n",
    "model.save('facial_landmark_model.h5')\n"
   ]
  },
  {
   "cell_type": "code",
   "execution_count": 5,
   "metadata": {},
   "outputs": [
    {
     "name": "stdout",
     "output_type": "stream",
     "text": [
      "Defaulting to user installation because normal site-packages is not writeable\n",
      "Collecting dlib\n",
      "  Using cached dlib-19.24.2.tar.gz (11.8 MB)\n",
      "  Installing build dependencies ... \u001b[?25ldone\n",
      "\u001b[?25h  Getting requirements to build wheel ... \u001b[?25ldone\n",
      "\u001b[?25h  Preparing metadata (pyproject.toml) ... \u001b[?25ldone\n",
      "\u001b[?25hBuilding wheels for collected packages: dlib\n",
      "  Building wheel for dlib (pyproject.toml) ... \u001b[?25ldone\n",
      "\u001b[?25h  Created wheel for dlib: filename=dlib-19.24.2-cp311-cp311-linux_x86_64.whl size=4051422 sha256=d047bb42b2c295955e2f74dbd6aebfdc64e5a8b55dc200c84420466280cc6403\n",
      "  Stored in directory: /home/selvatharrun/.cache/pip/wheels/61/05/62/44b0bf18a0f8f9a0d65337b11237ecf12926d0d6e3807500bb\n",
      "Successfully built dlib\n",
      "Installing collected packages: dlib\n",
      "Successfully installed dlib-19.24.2\n",
      "Note: you may need to restart the kernel to use updated packages.\n"
     ]
    }
   ],
   "source": [
    "pip install dlib --break-system-packages"
   ]
  },
  {
   "cell_type": "code",
   "execution_count": 1,
   "metadata": {},
   "outputs": [
    {
     "ename": "KeyboardInterrupt",
     "evalue": "",
     "output_type": "error",
     "traceback": [
      "\u001b[0;31m---------------------------------------------------------------------------\u001b[0m",
      "\u001b[0;31mKeyboardInterrupt\u001b[0m                         Traceback (most recent call last)",
      "Cell \u001b[0;32mIn[1], line 14\u001b[0m\n\u001b[1;32m     11\u001b[0m _, frame \u001b[38;5;241m=\u001b[39m cap\u001b[38;5;241m.\u001b[39mread()\n\u001b[1;32m     12\u001b[0m gray \u001b[38;5;241m=\u001b[39m cv2\u001b[38;5;241m.\u001b[39mcvtColor(frame, cv2\u001b[38;5;241m.\u001b[39mCOLOR_BGR2GRAY)\n\u001b[0;32m---> 14\u001b[0m faces \u001b[38;5;241m=\u001b[39m \u001b[43mhog_face_detector\u001b[49m\u001b[43m(\u001b[49m\u001b[43mgray\u001b[49m\u001b[43m)\u001b[49m\n\u001b[1;32m     15\u001b[0m \u001b[38;5;28;01mfor\u001b[39;00m face \u001b[38;5;129;01min\u001b[39;00m faces:\n\u001b[1;32m     17\u001b[0m     face_landmarks \u001b[38;5;241m=\u001b[39m dlib_facelandmark(gray, face)\n",
      "\u001b[0;31mKeyboardInterrupt\u001b[0m: "
     ]
    },
    {
     "ename": "",
     "evalue": "",
     "output_type": "error",
     "traceback": [
      "\u001b[1;31mThe Kernel crashed while executing code in the current cell or a previous cell. \n",
      "\u001b[1;31mPlease review the code in the cell(s) to identify a possible cause of the failure. \n",
      "\u001b[1;31mClick <a href='https://aka.ms/vscodeJupyterKernelCrash'>here</a> for more info. \n",
      "\u001b[1;31mView Jupyter <a href='command:jupyter.viewOutput'>log</a> for further details."
     ]
    }
   ],
   "source": [
    "import cv2\n",
    "import dlib\n",
    "\n",
    "cap = cv2.VideoCapture(0)\n",
    "\n",
    "hog_face_detector = dlib.get_frontal_face_detector()\n",
    "\n",
    "dlib_facelandmark = dlib.shape_predictor(\"shape_predictor_68_face_landmarks.dat\")\n",
    "\n",
    "while True:\n",
    "    _, frame = cap.read()\n",
    "    gray = cv2.cvtColor(frame, cv2.COLOR_BGR2GRAY)\n",
    "\n",
    "    faces = hog_face_detector(gray)\n",
    "    for face in faces:\n",
    "\n",
    "        face_landmarks = dlib_facelandmark(gray, face)\n",
    "\n",
    "        for n in range(0, 16):\n",
    "            x = face_landmarks.part(n).x\n",
    "            y = face_landmarks.part(n).y\n",
    "            cv2.circle(frame, (x, y), 1, (0, 255, 255), 1)\n",
    "\n",
    "\n",
    "    cv2.imshow(\"Face Landmarks\", frame)\n",
    "\n",
    "    key = cv2.waitKey(1)\n",
    "    if key == 27:\n",
    "        break\n",
    "cap.release()\n",
    "cv2.destroyAllWindows()"
   ]
  },
  {
   "cell_type": "code",
   "execution_count": 3,
   "metadata": {},
   "outputs": [
    {
     "name": "stdout",
     "output_type": "stream",
     "text": [
      "No keypoints found for image_id: 700\n",
      "No keypoints found for image_id: 700\n",
      "No keypoints found for image_id: 700\n",
      "No keypoints found for image_id: 700\n",
      "No keypoints found for image_id: 700\n",
      "No keypoints found for image_id: 700\n",
      "No keypoints found for image_id: 700\n",
      "No keypoints found for image_id: 700\n",
      "No keypoints found for image_id: 700\n",
      "No keypoints found for image_id: 700\n",
      "No keypoints found for image_id: 700\n",
      "No keypoints found for image_id: 700\n",
      "No keypoints found for image_id: 700\n",
      "No keypoints found for image_id: 700\n",
      "No keypoints found for image_id: 700\n",
      "No keypoints found for image_id: 700\n",
      "No keypoints found for image_id: 700\n",
      "No keypoints found for image_id: 700\n",
      "No keypoints found for image_id: 700\n",
      "No keypoints found for image_id: 700\n",
      "No keypoints found for image_id: 700\n",
      "No keypoints found for image_id: 700\n",
      "No keypoints found for image_id: 700\n",
      "No keypoints found for image_id: 700\n",
      "No keypoints found for image_id: 700\n",
      "No keypoints found for image_id: 700\n",
      "No keypoints found for image_id: 700\n",
      "No keypoints found for image_id: 700\n",
      "No keypoints found for image_id: 700\n",
      "No keypoints found for image_id: 700\n",
      "No keypoints found for image_id: 700\n",
      "No keypoints found for image_id: 700\n",
      "No keypoints found for image_id: 700\n",
      "No keypoints found for image_id: 700\n",
      "No keypoints found for image_id: 700\n",
      "No keypoints found for image_id: 700\n",
      "No keypoints found for image_id: 700\n"
     ]
    }
   ],
   "source": [
    "import os\n",
    "import json\n",
    "import cv2\n",
    "import numpy as np\n",
    "\n",
    "# Define paths to your train folder and COCO JSON file\n",
    "train_folder = 'train'\n",
    "coco_json_file = 'train/_annotations.coco.json'\n",
    "\n",
    "# Read the COCO JSON file\n",
    "with open(coco_json_file, 'r') as f:\n",
    "    coco_data = json.load(f)\n",
    "num_landmarks = 68 \n",
    "# Iterate through each image in the dataset\n",
    "for image_info in coco_data['images']:\n",
    "    image_id = image_info['id']\n",
    "    image_filename = image_info['file_name']\n",
    "    image_path = os.path.join(train_folder, image_filename)\n",
    "\n",
    "    # Load the image using OpenCV\n",
    "    image = cv2.imread(image_path)\n",
    "\n",
    "    # Preprocess the image as necessary (resize, normalize, etc.)\n",
    "    # Perform any data augmentation if needed\n",
    "\n",
    "    # Initialize lists to store the landmarks and their coordinates\n",
    "    landmarks = []\n",
    "    landmark_coordinates = []\n",
    "\n",
    "# Find annotations (bounding boxes) for the current image\n",
    "for annotation in coco_data['annotations']:\n",
    "    if annotation['image_id'] == image_id:\n",
    "        # Extract bounding box coordinates\n",
    "        bbox = annotation['bbox']\n",
    "        bbox_x, bbox_y, bbox_width, bbox_height = bbox\n",
    "        bbox_center_x = bbox_x + bbox_width / 2\n",
    "        bbox_center_y = bbox_y + bbox_height / 2\n",
    "        \n",
    "        # Calculate landmark coordinates relative to the bounding box\n",
    "        landmark_coordinates_rel = []\n",
    "        for i in range(num_landmarks):\n",
    "            # Adjust these values according to your annotation format\n",
    "            landmark_x_rel = # Calculate relative x-coordinate of landmark\n",
    "            landmark_y_rel = # Calculate relative y-coordinate of landmark\n",
    "            landmark_coordinates_rel.append((landmark_x_rel, landmark_y_rel))\n",
    "            \n",
    "        # Convert relative landmark coordinates to absolute image coordinates\n",
    "        landmark_coordinates_abs = []\n",
    "        for x_rel, y_rel in landmark_coordinates_rel:\n",
    "            landmark_x_abs = bbox_center_x + x_rel * bbox_width\n",
    "            landmark_y_abs = bbox_center_y + y_rel * bbox_height\n",
    "            landmark_coordinates_abs.append((landmark_x_abs, landmark_y_abs))\n",
    "        \n",
    "        # Store landmark coordinates\n",
    "        landmark_coordinates.extend(landmark_coordinates_abs)\n",
    "\n",
    "\n",
    "    # Convert landmark coordinates to numpy array\n",
    "    landmark_coordinates = np.array(landmark_coordinates)\n",
    "\n",
    "    # Perform any further preprocessing of landmark coordinates if necessary\n",
    "\n",
    "    # Now you have the image and its corresponding landmark coordinates\n",
    "    # Use this data to train your model\n",
    "    # You can feed the image and landmark coordinates into your data generator or directly into the model for training\n"
   ]
  }
 ],
 "metadata": {
  "kernelspec": {
   "display_name": "Python 3",
   "language": "python",
   "name": "python3"
  },
  "language_info": {
   "codemirror_mode": {
    "name": "ipython",
    "version": 3
   },
   "file_extension": ".py",
   "mimetype": "text/x-python",
   "name": "python",
   "nbconvert_exporter": "python",
   "pygments_lexer": "ipython3",
   "version": "3.11.6"
  }
 },
 "nbformat": 4,
 "nbformat_minor": 2
}
