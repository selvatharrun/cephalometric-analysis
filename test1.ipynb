{
 "cells": [
  {
   "cell_type": "code",
   "execution_count": null,
   "metadata": {},
   "outputs": [],
   "source": [
    "from google_images_download import google_images_download\n",
    "\n",
    "#instantiate the class\n",
    "response = google_images_download.googleimagesdownload()\n",
    "arguments = {\"keywords\":\"aeroplane, school bus, dog in front of house\",\n",
    "             \"limit\":10,\"print_urls\":False}\n",
    "paths = response.download(arguments)\n",
    "\n",
    "#print complete paths to the downloaded images\n",
    "print(paths)"
   ]
  },
  {
   "cell_type": "code",
   "execution_count": 1,
   "metadata": {},
   "outputs": [
    {
     "name": "stdout",
     "output_type": "stream",
     "text": [
      "Collecting google_images_download\n",
      "  Downloading google_images_download-2.8.0.tar.gz (14 kB)\n",
      "  Preparing metadata (setup.py): started\n",
      "  Preparing metadata (setup.py): finished with status 'done'\n",
      "Collecting selenium (from google_images_download)\n",
      "  Obtaining dependency information for selenium from https://files.pythonhosted.org/packages/3f/fd/c2e7bb547b5b96c7bd536b4a80c4564b7ce5cd38d10095fbba8648996ab9/selenium-4.18.1-py3-none-any.whl.metadata\n",
      "  Downloading selenium-4.18.1-py3-none-any.whl.metadata (6.9 kB)\n",
      "Requirement already satisfied: urllib3[socks]<3,>=1.26 in c:\\python311\\lib\\site-packages (from selenium->google_images_download) (1.26.15)\n",
      "Collecting trio~=0.17 (from selenium->google_images_download)\n",
      "  Obtaining dependency information for trio~=0.17 from https://files.pythonhosted.org/packages/14/fb/9299cf74953f473a15accfdbe2c15218e766bae8c796f2567c83bae03e98/trio-0.24.0-py3-none-any.whl.metadata\n",
      "  Downloading trio-0.24.0-py3-none-any.whl.metadata (4.9 kB)\n",
      "Collecting trio-websocket~=0.9 (from selenium->google_images_download)\n",
      "  Obtaining dependency information for trio-websocket~=0.9 from https://files.pythonhosted.org/packages/48/be/a9ae5f50cad5b6f85bd2574c2c923730098530096e170c1ce7452394d7aa/trio_websocket-0.11.1-py3-none-any.whl.metadata\n",
      "  Downloading trio_websocket-0.11.1-py3-none-any.whl.metadata (4.7 kB)\n",
      "Requirement already satisfied: certifi>=2021.10.8 in c:\\python311\\lib\\site-packages (from selenium->google_images_download) (2022.12.7)\n",
      "Collecting typing_extensions>=4.9.0 (from selenium->google_images_download)\n",
      "  Obtaining dependency information for typing_extensions>=4.9.0 from https://files.pythonhosted.org/packages/b7/f4/6a90020cd2d93349b442bfcb657d0dc91eee65491600b2cb1d388bc98e6b/typing_extensions-4.9.0-py3-none-any.whl.metadata\n",
      "  Downloading typing_extensions-4.9.0-py3-none-any.whl.metadata (3.0 kB)\n",
      "Requirement already satisfied: attrs>=20.1.0 in c:\\python311\\lib\\site-packages (from trio~=0.17->selenium->google_images_download) (23.1.0)\n",
      "Collecting sortedcontainers (from trio~=0.17->selenium->google_images_download)\n",
      "  Downloading sortedcontainers-2.4.0-py2.py3-none-any.whl (29 kB)\n",
      "Requirement already satisfied: idna in c:\\python311\\lib\\site-packages (from trio~=0.17->selenium->google_images_download) (3.4)\n",
      "Collecting outcome (from trio~=0.17->selenium->google_images_download)\n",
      "  Obtaining dependency information for outcome from https://files.pythonhosted.org/packages/55/8b/5ab7257531a5d830fc8000c476e63c935488d74609b50f9384a643ec0a62/outcome-1.3.0.post0-py2.py3-none-any.whl.metadata\n",
      "  Downloading outcome-1.3.0.post0-py2.py3-none-any.whl.metadata (2.6 kB)\n",
      "Collecting sniffio>=1.3.0 (from trio~=0.17->selenium->google_images_download)\n",
      "  Obtaining dependency information for sniffio>=1.3.0 from https://files.pythonhosted.org/packages/c3/a0/5dba8ed157b0136607c7f2151db695885606968d1fae123dc3391e0cfdbf/sniffio-1.3.0-py3-none-any.whl.metadata\n",
      "  Downloading sniffio-1.3.0-py3-none-any.whl.metadata (3.6 kB)\n",
      "Requirement already satisfied: cffi>=1.14 in c:\\python311\\lib\\site-packages (from trio~=0.17->selenium->google_images_download) (1.15.1)\n",
      "Collecting wsproto>=0.14 (from trio-websocket~=0.9->selenium->google_images_download)\n",
      "  Obtaining dependency information for wsproto>=0.14 from https://files.pythonhosted.org/packages/78/58/e860788190eba3bcce367f74d29c4675466ce8dddfba85f7827588416f01/wsproto-1.2.0-py3-none-any.whl.metadata\n",
      "  Downloading wsproto-1.2.0-py3-none-any.whl.metadata (5.6 kB)\n",
      "Collecting PySocks!=1.5.7,<2.0,>=1.5.6 (from urllib3[socks]<3,>=1.26->selenium->google_images_download)\n",
      "  Downloading PySocks-1.7.1-py3-none-any.whl (16 kB)\n",
      "Requirement already satisfied: pycparser in c:\\python311\\lib\\site-packages (from cffi>=1.14->trio~=0.17->selenium->google_images_download) (2.21)\n",
      "Collecting h11<1,>=0.9.0 (from wsproto>=0.14->trio-websocket~=0.9->selenium->google_images_download)\n",
      "  Obtaining dependency information for h11<1,>=0.9.0 from https://files.pythonhosted.org/packages/95/04/ff642e65ad6b90db43e668d70ffb6736436c7ce41fcc549f4e9472234127/h11-0.14.0-py3-none-any.whl.metadata\n",
      "  Downloading h11-0.14.0-py3-none-any.whl.metadata (8.2 kB)\n",
      "Downloading selenium-4.18.1-py3-none-any.whl (10.0 MB)\n",
      "   ---------------------------------------- 0.0/10.0 MB ? eta -:--:--\n",
      "   ---------------------------------------- 0.1/10.0 MB 1.6 MB/s eta 0:00:07\n",
      "    --------------------------------------- 0.1/10.0 MB 1.7 MB/s eta 0:00:06\n",
      "   - -------------------------------------- 0.3/10.0 MB 2.3 MB/s eta 0:00:05\n",
      "   - -------------------------------------- 0.5/10.0 MB 2.9 MB/s eta 0:00:04\n",
      "   -- ------------------------------------- 0.6/10.0 MB 2.9 MB/s eta 0:00:04\n",
      "   --- ------------------------------------ 0.9/10.0 MB 3.4 MB/s eta 0:00:03\n",
      "   ---- ----------------------------------- 1.2/10.0 MB 3.7 MB/s eta 0:00:03\n",
      "   ----- ---------------------------------- 1.4/10.0 MB 3.9 MB/s eta 0:00:03\n",
      "   ------ --------------------------------- 1.7/10.0 MB 4.2 MB/s eta 0:00:02\n",
      "   -------- ------------------------------- 2.1/10.0 MB 4.5 MB/s eta 0:00:02\n",
      "   --------- ------------------------------ 2.4/10.0 MB 4.7 MB/s eta 0:00:02\n",
      "   ---------- ----------------------------- 2.6/10.0 MB 4.7 MB/s eta 0:00:02\n",
      "   ----------- ---------------------------- 2.9/10.0 MB 4.8 MB/s eta 0:00:02\n",
      "   ------------ --------------------------- 3.2/10.0 MB 4.9 MB/s eta 0:00:02\n",
      "   -------------- ------------------------- 3.5/10.0 MB 5.1 MB/s eta 0:00:02\n",
      "   --------------- ------------------------ 3.9/10.0 MB 5.3 MB/s eta 0:00:02\n",
      "   ----------------- ---------------------- 4.3/10.0 MB 5.5 MB/s eta 0:00:02\n",
      "   ------------------ --------------------- 4.7/10.0 MB 5.7 MB/s eta 0:00:01\n",
      "   -------------------- ------------------- 5.1/10.0 MB 5.8 MB/s eta 0:00:01\n",
      "   ---------------------- ----------------- 5.5/10.0 MB 6.0 MB/s eta 0:00:01\n",
      "   ----------------------- ---------------- 6.0/10.0 MB 6.1 MB/s eta 0:00:01\n",
      "   -------------------------- ------------- 6.5/10.0 MB 6.4 MB/s eta 0:00:01\n",
      "   ---------------------------- ----------- 7.0/10.0 MB 6.6 MB/s eta 0:00:01\n",
      "   ----------------------------- ---------- 7.4/10.0 MB 6.6 MB/s eta 0:00:01\n",
      "   ------------------------------- -------- 7.8/10.0 MB 6.8 MB/s eta 0:00:01\n",
      "   --------------------------------- ------ 8.4/10.0 MB 7.0 MB/s eta 0:00:01\n",
      "   ---------------------------------- ----- 8.7/10.0 MB 7.0 MB/s eta 0:00:01\n",
      "   ------------------------------------- -- 9.3/10.0 MB 7.1 MB/s eta 0:00:01\n",
      "   ---------------------------------------  9.8/10.0 MB 7.3 MB/s eta 0:00:01\n",
      "   ---------------------------------------  10.0/10.0 MB 7.2 MB/s eta 0:00:01\n",
      "   ---------------------------------------- 10.0/10.0 MB 7.0 MB/s eta 0:00:00\n",
      "Downloading trio-0.24.0-py3-none-any.whl (460 kB)\n",
      "   ---------------------------------------- 0.0/460.2 kB ? eta -:--:--\n",
      "   ---------------------------------------  450.6/460.2 kB 9.4 MB/s eta 0:00:01\n",
      "   ---------------------------------------- 460.2/460.2 kB 7.1 MB/s eta 0:00:00\n",
      "Downloading trio_websocket-0.11.1-py3-none-any.whl (17 kB)\n",
      "Downloading typing_extensions-4.9.0-py3-none-any.whl (32 kB)\n",
      "Downloading sniffio-1.3.0-py3-none-any.whl (10 kB)\n",
      "Downloading wsproto-1.2.0-py3-none-any.whl (24 kB)\n",
      "Downloading outcome-1.3.0.post0-py2.py3-none-any.whl (10 kB)\n",
      "Downloading h11-0.14.0-py3-none-any.whl (58 kB)\n",
      "   ---------------------------------------- 0.0/58.3 kB ? eta -:--:--\n",
      "   ---------------------------------------- 58.3/58.3 kB ? eta 0:00:00\n",
      "Building wheels for collected packages: google_images_download\n",
      "  Building wheel for google_images_download (setup.py): started\n",
      "  Building wheel for google_images_download (setup.py): finished with status 'done'\n",
      "  Created wheel for google_images_download: filename=google_images_download-2.8.0-py2.py3-none-any.whl size=14548 sha256=816d8bec1dc216d366eb5071423b35f6ffbd54f1f4f6e5f135eb8af43e6f86b9\n",
      "  Stored in directory: c:\\users\\selva tharrun\\appdata\\local\\pip\\cache\\wheels\\dc\\83\\37\\7303b15f3e8a5bfbd5c7ebbfe13f0c666ada6f8efecc6d77ec\n",
      "Successfully built google_images_download\n",
      "Installing collected packages: sortedcontainers, typing_extensions, sniffio, PySocks, outcome, h11, wsproto, trio, trio-websocket, selenium, google_images_download\n",
      "  Attempting uninstall: typing_extensions\n",
      "    Found existing installation: typing_extensions 4.5.0\n",
      "    Uninstalling typing_extensions-4.5.0:\n",
      "      Successfully uninstalled typing_extensions-4.5.0\n",
      "Note: you may need to restart the kernel to use updated packages.\n"
     ]
    },
    {
     "name": "stderr",
     "output_type": "stream",
     "text": [
      "DEPRECATION: Loading egg at c:\\python311\\lib\\site-packages\\vboxapi-1.0-py3.11.egg is deprecated. pip 23.3 will enforce this behaviour change. A possible replacement is to use pip for package installation..\n",
      "  WARNING: Failed to write executable - trying to use .deleteme logic\n",
      "ERROR: Could not install packages due to an OSError: [WinError 2] The system cannot find the file specified: 'c:\\\\Python311\\\\Scripts\\\\googleimagesdownload.exe' -> 'c:\\\\Python311\\\\Scripts\\\\googleimagesdownload.exe.deleteme'\n",
      "\n"
     ]
    }
   ],
   "source": [
    "pip install google_images_download"
   ]
  },
  {
   "cell_type": "code",
   "execution_count": null,
   "metadata": {},
   "outputs": [],
   "source": [
    "#very epic\n"
   ]
  }
 ],
 "metadata": {
  "kernelspec": {
   "display_name": "Python 3",
   "language": "python",
   "name": "python3"
  },
  "language_info": {
   "codemirror_mode": {
    "name": "ipython",
    "version": 3
   },
   "file_extension": ".py",
   "mimetype": "text/x-python",
   "name": "python",
   "nbconvert_exporter": "python",
   "pygments_lexer": "ipython3",
   "version": "3.11.4"
  }
 },
 "nbformat": 4,
 "nbformat_minor": 2
}
